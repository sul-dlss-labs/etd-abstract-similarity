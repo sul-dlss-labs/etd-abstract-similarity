{
 "cells": [
  {
   "cell_type": "code",
   "execution_count": 1,
   "metadata": {},
   "outputs": [
    {
     "data": {
      "text/plain": [
       "RendererRegistry.enable('altair_viewer')"
      ]
     },
     "execution_count": 1,
     "metadata": {},
     "output_type": "execute_result"
    }
   ],
   "source": [
    "import pickle\n",
    "\n",
    "import numpy as np\n",
    "import pandas as pd\n",
    "import altair as alt\n",
    "from sklearn.cluster import KMeans\n",
    "\n",
    "alt.renderers.enable('altair_viewer', \n",
    "                     inline=True)"
   ]
  },
  {
   "cell_type": "code",
   "execution_count": 2,
   "metadata": {},
   "outputs": [],
   "source": [
    "abstracts = pd.read_pickle(\"../data/abstracts.pkl\")"
   ]
  },
  {
   "cell_type": "code",
   "execution_count": 4,
   "metadata": {},
   "outputs": [],
   "source": [
    "with open(\"../data/abstracts-bert-embeddings.pkl\", \"rb\") as fo:\n",
    "    abstract_embeddings = pickle.load(fo)"
   ]
  },
  {
   "cell_type": "code",
   "execution_count": 5,
   "metadata": {},
   "outputs": [],
   "source": [
    "clustering_model = KMeans(n_clusters=15)\n",
    "predicated_cluster = clustering_model.fit_predict(abstract_embeddings)\n",
    "clustered_abstracts = abstracts.copy()\n",
    "clustered_abstracts['cluster'] = clustered_abstracts.index.map(\n",
    "    lambda x: predicated_cluster[x])"
   ]
  },
  {
   "cell_type": "code",
   "execution_count": 6,
   "metadata": {},
   "outputs": [],
   "source": [
    "groups = [group for group in clustered_abstracts.groupby(by='cluster')]"
   ]
  },
  {
   "cell_type": "code",
   "execution_count": 150,
   "metadata": {},
   "outputs": [],
   "source": [
    "raw_areas = {}\n",
    "for row in groups[0][1].iterrows():\n",
    "    area = row[1]['area']\n",
    "    if area in raw_areas:\n",
    "        raw_areas[area] += 1\n",
    "    else:\n",
    "        raw_areas[area] = 1"
   ]
  },
  {
   "cell_type": "code",
   "execution_count": 55,
   "metadata": {},
   "outputs": [],
   "source": [
    "raw_data = []\n",
    "for key, value in raw_areas.items():\n",
    "    raw_data.append({ 'y': value,\n",
    "                      'x': key})"
   ]
  },
  {
   "cell_type": "code",
   "execution_count": 56,
   "metadata": {},
   "outputs": [],
   "source": [
    "data = alt.Data(values=raw_data)"
   ]
  },
  {
   "cell_type": "code",
   "execution_count": 64,
   "metadata": {},
   "outputs": [],
   "source": [
    "group0_chart = alt.Chart(data).mark_bar().encode(\n",
    "   x=alt.X('y:Q'),\n",
    "   y=alt.Y('x:O', sort='-x'))"
   ]
  },
  {
   "cell_type": "code",
   "execution_count": 65,
   "metadata": {},
   "outputs": [
    {
     "data": {
      "text/html": [
       "\n",
       "<div id=\"altair-chart-4d76dcc40a6d48709476017c1161a0fb\"></div>\n",
       "<script type=\"text/javascript\">\n",
       "  (function(spec, embedOpt) {\n",
       "    const outputDiv = document.getElementById(\"altair-chart-4d76dcc40a6d48709476017c1161a0fb\");\n",
       "    const urls = {\n",
       "      \"vega\": \"http://localhost:17991/scripts/vega.js\",\n",
       "      \"vega-lite\": \"http://localhost:17991/scripts/vega-lite.js\",\n",
       "      \"vega-embed\": \"http://localhost:17991/scripts/vega-embed.js\",\n",
       "    };\n",
       "    function loadScript(lib) {\n",
       "      return new Promise(function(resolve, reject) {\n",
       "        var s = document.createElement('script');\n",
       "        s.src = urls[lib];\n",
       "        s.async = true;\n",
       "        s.onload = () => resolve(urls[lib]);\n",
       "        s.onerror = () => reject(`Error loading script: ${urls[lib]}`);\n",
       "        document.getElementsByTagName(\"head\")[0].appendChild(s);\n",
       "      });\n",
       "    }\n",
       "    function showError(err) {\n",
       "      outputDiv.innerHTML = `<div class=\"error\" style=\"color:red;\">${err}</div>`;\n",
       "      throw err;\n",
       "    }\n",
       "    function displayChart(vegaEmbed) {\n",
       "      vegaEmbed(outputDiv, spec, embedOpt)\n",
       "        .catch(err => showError(`Javascript Error: ${err.message}<br>This usually means there's a typo in your chart specification. See the javascript console for the full traceback.`));\n",
       "    }\n",
       "\n",
       "    if(typeof define === \"function\" && define.amd) {\n",
       "        // requirejs paths need '.js' extension stripped.\n",
       "        const paths = Object.keys(urls).reduce(function(paths, package) {\n",
       "            paths[package] = urls[package].replace(/\\.js$/, \"\");\n",
       "            return paths\n",
       "        }, {})\n",
       "        requirejs.config({paths});\n",
       "        require([\"vega-embed\"], displayChart, err => showError(`Error loading script: ${err.message}`));\n",
       "    } else if (typeof vegaEmbed === \"function\") {\n",
       "        displayChart(vegaEmbed);\n",
       "    } else {\n",
       "        loadScript(\"vega\")\n",
       "            .then(() => loadScript(\"vega-lite\"))\n",
       "            .then(() => loadScript(\"vega-embed\"))\n",
       "            .catch(showError)\n",
       "            .then(() => displayChart(vegaEmbed));\n",
       "    }\n",
       "  })({\"config\": {\"view\": {\"continuousWidth\": 400, \"continuousHeight\": 300}}, \"data\": {\"values\": [{\"y\": 97, \"x\": \"Geophysics\"}, {\"y\": 58, \"x\": \"Earth, Energy and Environmental Sciences\"}, {\"y\": 9, \"x\": \"Computational and Mathematical Engineering\"}, {\"y\": 4, \"x\": \"Earth Systems\"}, {\"y\": 34, \"x\": \"Mechanical Engineering\"}, {\"y\": 68, \"x\": \"Civil & Environmental Engineering\"}, {\"y\": 7, \"x\": \"Materials Science and Engineering\"}, {\"y\": 1, \"x\": \"Bioengineering\"}, {\"y\": 58, \"x\": \"Energy Resources Engineering\"}, {\"y\": 11, \"x\": \"Geological Sciences\"}, {\"y\": 12, \"x\": \"Aeronautics & Astronautics\"}, {\"y\": 5, \"x\": \"Electrical Engineering\"}, {\"y\": 5, \"x\": \"Chemical Engineering\"}, {\"y\": 1, \"x\": \"Biology\"}, {\"y\": 1, \"x\": \"Chemistry\"}, {\"y\": 1, \"x\": \"German Studies\"}, {\"y\": 2, \"x\": \"Physics\"}, {\"y\": 1, \"x\": \"Environment and Resources\"}]}, \"mark\": \"bar\", \"encoding\": {\"x\": {\"type\": \"quantitative\", \"field\": \"y\"}, \"y\": {\"type\": \"ordinal\", \"field\": \"x\", \"sort\": \"-x\"}}, \"$schema\": \"https://vega.github.io/schema/vega-lite/v4.8.1.json\"}, {});\n",
       "</script>\n"
      ],
      "text/plain": [
       "alt.Chart(...)"
      ]
     },
     "metadata": {},
     "output_type": "display_data"
    }
   ],
   "source": [
    "group0_chart.display()"
   ]
  },
  {
   "cell_type": "code",
   "execution_count": 73,
   "metadata": {},
   "outputs": [],
   "source": [
    "import matplotlib.pyplot as plt"
   ]
  },
  {
   "cell_type": "code",
   "execution_count": 158,
   "metadata": {},
   "outputs": [],
   "source": [
    "df_areas = [x for x in raw_areas.keys()]\n",
    "values = [i for i in raw_areas.values()]\n",
    "cluster_temp = 1"
   ]
  },
  {
   "cell_type": "code",
   "execution_count": 172,
   "metadata": {},
   "outputs": [
    {
     "ename": "AttributeError",
     "evalue": "'Figure' object has no attribute 'width'",
     "output_type": "error",
     "traceback": [
      "\u001b[0;31m---------------------------------------------------------------------------\u001b[0m",
      "\u001b[0;31mAttributeError\u001b[0m                            Traceback (most recent call last)",
      "\u001b[0;32m<ipython-input-172-699479dea8b7>\u001b[0m in \u001b[0;36m<module>\u001b[0;34m\u001b[0m\n\u001b[1;32m      8\u001b[0m \u001b[0max\u001b[0m\u001b[0;34m.\u001b[0m\u001b[0mspines\u001b[0m\u001b[0;34m[\u001b[0m\u001b[0;34m'left'\u001b[0m\u001b[0;34m]\u001b[0m\u001b[0;34m.\u001b[0m\u001b[0mset_visible\u001b[0m\u001b[0;34m(\u001b[0m\u001b[0;32mFalse\u001b[0m\u001b[0;34m)\u001b[0m\u001b[0;34m\u001b[0m\u001b[0;34m\u001b[0m\u001b[0m\n\u001b[1;32m      9\u001b[0m \u001b[0max\u001b[0m\u001b[0;34m.\u001b[0m\u001b[0mspines\u001b[0m\u001b[0;34m[\u001b[0m\u001b[0;34m'bottom'\u001b[0m\u001b[0;34m]\u001b[0m\u001b[0;34m.\u001b[0m\u001b[0mset_visible\u001b[0m\u001b[0;34m(\u001b[0m\u001b[0;32mFalse\u001b[0m\u001b[0;34m)\u001b[0m\u001b[0;34m\u001b[0m\u001b[0;34m\u001b[0m\u001b[0m\n\u001b[0;32m---> 10\u001b[0;31m \u001b[0mprint\u001b[0m\u001b[0;34m(\u001b[0m\u001b[0mfig\u001b[0m\u001b[0;34m.\u001b[0m\u001b[0mwidth\u001b[0m\u001b[0;34m)\u001b[0m\u001b[0;34m\u001b[0m\u001b[0;34m\u001b[0m\u001b[0m\n\u001b[0m\u001b[1;32m     11\u001b[0m \u001b[0;32mfor\u001b[0m \u001b[0mi\u001b[0m\u001b[0;34m,\u001b[0m \u001b[0mv\u001b[0m \u001b[0;32min\u001b[0m \u001b[0menumerate\u001b[0m\u001b[0;34m(\u001b[0m\u001b[0mvalues\u001b[0m\u001b[0;34m)\u001b[0m\u001b[0;34m:\u001b[0m\u001b[0;34m\u001b[0m\u001b[0;34m\u001b[0m\u001b[0m\n\u001b[1;32m     12\u001b[0m     \u001b[0max\u001b[0m\u001b[0;34m.\u001b[0m\u001b[0mtext\u001b[0m\u001b[0;34m(\u001b[0m\u001b[0;36m100\u001b[0m\u001b[0;34m,\u001b[0m \u001b[0mi\u001b[0m\u001b[0;34m,\u001b[0m \u001b[0mstr\u001b[0m\u001b[0;34m(\u001b[0m\u001b[0mv\u001b[0m\u001b[0;34m)\u001b[0m\u001b[0;34m,\u001b[0m \u001b[0mfontweight\u001b[0m\u001b[0;34m=\u001b[0m\u001b[0;34m'bold'\u001b[0m\u001b[0;34m,\u001b[0m \u001b[0mfontsize\u001b[0m\u001b[0;34m=\u001b[0m\u001b[0;36m14\u001b[0m\u001b[0;34m,\u001b[0m \u001b[0mha\u001b[0m\u001b[0;34m=\u001b[0m\u001b[0;34m'left'\u001b[0m\u001b[0;34m,\u001b[0m \u001b[0mva\u001b[0m\u001b[0;34m=\u001b[0m\u001b[0;34m'center'\u001b[0m\u001b[0;34m)\u001b[0m\u001b[0;34m\u001b[0m\u001b[0;34m\u001b[0m\u001b[0m\n",
      "\u001b[0;31mAttributeError\u001b[0m: 'Figure' object has no attribute 'width'"
     ]
    },
    {
     "data": {
      "image/png": "[encoded data removed]",
      "text/plain": [
       "<Figure size 864x720 with 1 Axes>"
      ]
     },
     "metadata": {
      "needs_background": "light"
     },
     "output_type": "display_data"
    }
   ],
   "source": [
    "fig, ax = plt.subplots(figsize=(12,10))\n",
    "y_pos = np.arange(len(df_areas))\n",
    "rects1 = ax.barh(y_pos, values, color='#d1e6f0')\n",
    "ax.set_yticks(y_pos)\n",
    "ax.set_yticklabels(df_areas, x=.02, ha='left')\n",
    "ax.spines['right'].set_visible(False)\n",
    "ax.spines['top'].set_visible(False)\n",
    "ax.spines['left'].set_visible(False)\n",
    "ax.spines['bottom'].set_visible(False)\n",
    "print(fig.width)\n",
    "for i, v in enumerate(values):\n",
    "    ax.text(100, i, str(v), fontweight='bold', fontsize=14, ha='left', va='center')\n",
    "ax.invert_yaxis()\n",
    "ax.set_xlabel('Number of Druids')\n",
    "ax.set_title(f\"Cluster {cluster_temp}\")"
   ]
  },
  {
   "cell_type": "code",
   "execution_count": 170,
   "metadata": {},
   "outputs": [
    {
     "ename": "AttributeError",
     "evalue": "module 'matplotlib.pyplot' has no attribute 'y'",
     "output_type": "error",
     "traceback": [
      "\u001b[0;31m---------------------------------------------------------------------------\u001b[0m",
      "\u001b[0;31mAttributeError\u001b[0m                            Traceback (most recent call last)",
      "\u001b[0;32m<ipython-input-170-1ba78d1c1ba9>\u001b[0m in \u001b[0;36m<module>\u001b[0;34m\u001b[0m\n\u001b[1;32m      2\u001b[0m \u001b[0my_pos\u001b[0m \u001b[0;34m=\u001b[0m \u001b[0mnp\u001b[0m\u001b[0;34m.\u001b[0m\u001b[0marange\u001b[0m\u001b[0;34m(\u001b[0m\u001b[0mlen\u001b[0m\u001b[0;34m(\u001b[0m\u001b[0mdf_areas\u001b[0m\u001b[0;34m)\u001b[0m\u001b[0;34m)\u001b[0m\u001b[0;34m\u001b[0m\u001b[0;34m\u001b[0m\u001b[0m\n\u001b[1;32m      3\u001b[0m \u001b[0mplt\u001b[0m\u001b[0;34m.\u001b[0m\u001b[0mbarh\u001b[0m\u001b[0;34m(\u001b[0m\u001b[0my_pos\u001b[0m\u001b[0;34m,\u001b[0m \u001b[0mvalues\u001b[0m\u001b[0;34m,\u001b[0m \u001b[0mcolor\u001b[0m\u001b[0;34m=\u001b[0m\u001b[0;34m'#d1e6f0'\u001b[0m\u001b[0;34m)\u001b[0m\u001b[0;34m\u001b[0m\u001b[0;34m\u001b[0m\u001b[0m\n\u001b[0;32m----> 4\u001b[0;31m \u001b[0mplt\u001b[0m\u001b[0;34m.\u001b[0m\u001b[0my\u001b[0m\u001b[0;34m.\u001b[0m\u001b[0mset_yticks\u001b[0m\u001b[0;34m(\u001b[0m\u001b[0my_pos\u001b[0m\u001b[0;34m)\u001b[0m\u001b[0;34m\u001b[0m\u001b[0;34m\u001b[0m\u001b[0m\n\u001b[0m\u001b[1;32m      5\u001b[0m \u001b[0mplt\u001b[0m\u001b[0;34m.\u001b[0m\u001b[0mset_yticklabels\u001b[0m\u001b[0;34m(\u001b[0m\u001b[0mdf_areas\u001b[0m\u001b[0;34m,\u001b[0m \u001b[0mx\u001b[0m\u001b[0;34m=\u001b[0m\u001b[0;36m.02\u001b[0m\u001b[0;34m,\u001b[0m \u001b[0mha\u001b[0m\u001b[0;34m=\u001b[0m\u001b[0;34m'left'\u001b[0m\u001b[0;34m)\u001b[0m\u001b[0;34m\u001b[0m\u001b[0;34m\u001b[0m\u001b[0m\n\u001b[1;32m      6\u001b[0m \u001b[0mplt\u001b[0m\u001b[0;34m.\u001b[0m\u001b[0mspines\u001b[0m\u001b[0;34m[\u001b[0m\u001b[0;34m'right'\u001b[0m\u001b[0;34m]\u001b[0m\u001b[0;34m.\u001b[0m\u001b[0mset_visible\u001b[0m\u001b[0;34m(\u001b[0m\u001b[0;32mFalse\u001b[0m\u001b[0;34m)\u001b[0m\u001b[0;34m\u001b[0m\u001b[0;34m\u001b[0m\u001b[0m\n",
      "\u001b[0;31mAttributeError\u001b[0m: module 'matplotlib.pyplot' has no attribute 'y'"
     ]
    },
    {
     "data": {
      "image/png": "[encoded data removed]",
      "text/plain": [
       "<Figure size 864x720 with 1 Axes>"
      ]
     },
     "metadata": {
      "needs_background": "light"
     },
     "output_type": "display_data"
    }
   ],
   "source": [
    "sorted_areas = "
   ]
  },
  {
   "cell_type": "code",
   "execution_count": 33,
   "metadata": {},
   "outputs": [
    {
     "data": {
      "text/html": [
       "<div>\n",
       "<style scoped>\n",
       "    .dataframe tbody tr th:only-of-type {\n",
       "        vertical-align: middle;\n",
       "    }\n",
       "\n",
       "    .dataframe tbody tr th {\n",
       "        vertical-align: top;\n",
       "    }\n",
       "\n",
       "    .dataframe thead th {\n",
       "        text-align: right;\n",
       "    }\n",
       "</style>\n",
       "<table border=\"1\" class=\"dataframe\">\n",
       "  <thead>\n",
       "    <tr style=\"text-align: right;\">\n",
       "      <th></th>\n",
       "      <th>druids</th>\n",
       "      <th>abstracts</th>\n",
       "      <th>abstracts_cleaned</th>\n",
       "      <th>departments</th>\n",
       "      <th>title</th>\n",
       "      <th>area</th>\n",
       "      <th>cluster</th>\n",
       "    </tr>\n",
       "  </thead>\n",
       "  <tbody>\n",
       "    <tr>\n",
       "      <th>26</th>\n",
       "      <td>dk454tf9294</td>\n",
       "      <td>This thesis applies the principals of geomecha...</td>\n",
       "      <td>thesis applies principals geomechanics address...</td>\n",
       "      <td>Department of Geophysics</td>\n",
       "      <td>Geomechanical analysis of intraplate earthquak...</td>\n",
       "      <td>Geophysics</td>\n",
       "      <td>0</td>\n",
       "    </tr>\n",
       "    <tr>\n",
       "      <th>55</th>\n",
       "      <td>ws605fz8400</td>\n",
       "      <td>Deep-water channels are submarine conduits tha...</td>\n",
       "      <td>deep water channels submarine conduits transpo...</td>\n",
       "      <td>Department of Geological and Environmental Sci...</td>\n",
       "      <td>Depositional architecture of deep-water slope ...</td>\n",
       "      <td>Earth, Energy and Environmental Sciences</td>\n",
       "      <td>0</td>\n",
       "    </tr>\n",
       "    <tr>\n",
       "      <th>56</th>\n",
       "      <td>rd486sp0488</td>\n",
       "      <td>The Sierra Nevada of California reflects a com...</td>\n",
       "      <td>sierra nevada california reflects complex tect...</td>\n",
       "      <td>Department of Geological and Environmental Sci...</td>\n",
       "      <td>Cenozoic landscape evolution of the Northern S...</td>\n",
       "      <td>Earth, Energy and Environmental Sciences</td>\n",
       "      <td>0</td>\n",
       "    </tr>\n",
       "    <tr>\n",
       "      <th>64</th>\n",
       "      <td>wh201ts0757</td>\n",
       "      <td>Turbulent fluid flow over complex boundaries i...</td>\n",
       "      <td>turbulent fluid flow complex boundaries intere...</td>\n",
       "      <td>Institute for Computational and Mathematical E...</td>\n",
       "      <td>Bathymetry inference from free-surface flow fe...</td>\n",
       "      <td>Computational and Mathematical Engineering</td>\n",
       "      <td>0</td>\n",
       "    </tr>\n",
       "    <tr>\n",
       "      <th>68</th>\n",
       "      <td>dm618nn9112</td>\n",
       "      <td>This thesis develops numerical methods for the...</td>\n",
       "      <td>thesis develops numerical methods simulation w...</td>\n",
       "      <td>Department of Geophysics.</td>\n",
       "      <td>Numerical methods for wave propagation in soli...</td>\n",
       "      <td>Geophysics</td>\n",
       "      <td>0</td>\n",
       "    </tr>\n",
       "  </tbody>\n",
       "</table>\n",
       "</div>"
      ],
      "text/plain": [
       "         druids                                          abstracts  \\\n",
       "26  dk454tf9294  This thesis applies the principals of geomecha...   \n",
       "55  ws605fz8400  Deep-water channels are submarine conduits tha...   \n",
       "56  rd486sp0488  The Sierra Nevada of California reflects a com...   \n",
       "64  wh201ts0757  Turbulent fluid flow over complex boundaries i...   \n",
       "68  dm618nn9112  This thesis develops numerical methods for the...   \n",
       "\n",
       "                                    abstracts_cleaned  \\\n",
       "26  thesis applies principals geomechanics address...   \n",
       "55  deep water channels submarine conduits transpo...   \n",
       "56  sierra nevada california reflects complex tect...   \n",
       "64  turbulent fluid flow complex boundaries intere...   \n",
       "68  thesis develops numerical methods simulation w...   \n",
       "\n",
       "                                          departments  \\\n",
       "26                           Department of Geophysics   \n",
       "55  Department of Geological and Environmental Sci...   \n",
       "56  Department of Geological and Environmental Sci...   \n",
       "64  Institute for Computational and Mathematical E...   \n",
       "68                          Department of Geophysics.   \n",
       "\n",
       "                                                title  \\\n",
       "26  Geomechanical analysis of intraplate earthquak...   \n",
       "55  Depositional architecture of deep-water slope ...   \n",
       "56  Cenozoic landscape evolution of the Northern S...   \n",
       "64  Bathymetry inference from free-surface flow fe...   \n",
       "68  Numerical methods for wave propagation in soli...   \n",
       "\n",
       "                                          area  cluster  \n",
       "26                                  Geophysics        0  \n",
       "55    Earth, Energy and Environmental Sciences        0  \n",
       "56    Earth, Energy and Environmental Sciences        0  \n",
       "64  Computational and Mathematical Engineering        0  \n",
       "68                                  Geophysics        0  "
      ]
     },
     "execution_count": 33,
     "metadata": {},
     "output_type": "execute_result"
    }
   ],
   "source": [
    "groups[0][1].head()"
   ]
  },
  {
   "cell_type": "code",
   "execution_count": 68,
   "metadata": {},
   "outputs": [
    {
     "data": {
      "text/html": [
       "\n",
       "<div id=\"altair-chart-396b45381d27429bb532422dd5f5755d\"></div>\n",
       "<script type=\"text/javascript\">\n",
       "  (function(spec, embedOpt) {\n",
       "    const outputDiv = document.getElementById(\"altair-chart-396b45381d27429bb532422dd5f5755d\");\n",
       "    const urls = {\n",
       "      \"vega\": \"http://localhost:17991/scripts/vega.js\",\n",
       "      \"vega-lite\": \"http://localhost:17991/scripts/vega-lite.js\",\n",
       "      \"vega-embed\": \"http://localhost:17991/scripts/vega-embed.js\",\n",
       "    };\n",
       "    function loadScript(lib) {\n",
       "      return new Promise(function(resolve, reject) {\n",
       "        var s = document.createElement('script');\n",
       "        s.src = urls[lib];\n",
       "        s.async = true;\n",
       "        s.onload = () => resolve(urls[lib]);\n",
       "        s.onerror = () => reject(`Error loading script: ${urls[lib]}`);\n",
       "        document.getElementsByTagName(\"head\")[0].appendChild(s);\n",
       "      });\n",
       "    }\n",
       "    function showError(err) {\n",
       "      outputDiv.innerHTML = `<div class=\"error\" style=\"color:red;\">${err}</div>`;\n",
       "      throw err;\n",
       "    }\n",
       "    function displayChart(vegaEmbed) {\n",
       "      vegaEmbed(outputDiv, spec, embedOpt)\n",
       "        .catch(err => showError(`Javascript Error: ${err.message}<br>This usually means there's a typo in your chart specification. See the javascript console for the full traceback.`));\n",
       "    }\n",
       "\n",
       "    if(typeof define === \"function\" && define.amd) {\n",
       "        // requirejs paths need '.js' extension stripped.\n",
       "        const paths = Object.keys(urls).reduce(function(paths, package) {\n",
       "            paths[package] = urls[package].replace(/\\.js$/, \"\");\n",
       "            return paths\n",
       "        }, {})\n",
       "        requirejs.config({paths});\n",
       "        require([\"vega-embed\"], displayChart, err => showError(`Error loading script: ${err.message}`));\n",
       "    } else if (typeof vegaEmbed === \"function\") {\n",
       "        displayChart(vegaEmbed);\n",
       "    } else {\n",
       "        loadScript(\"vega\")\n",
       "            .then(() => loadScript(\"vega-lite\"))\n",
       "            .then(() => loadScript(\"vega-embed\"))\n",
       "            .catch(showError)\n",
       "            .then(() => displayChart(vegaEmbed));\n",
       "    }\n",
       "  })({\"config\": {\"view\": {\"continuousWidth\": 400, \"continuousHeight\": 300}}, \"data\": {\"name\": \"data-a1872229d605b292345e242ab2ccd743\"}, \"mark\": \"circle\", \"encoding\": {\"color\": {\"type\": \"quantitative\", \"field\": \"c\"}, \"size\": {\"type\": \"quantitative\", \"field\": \"c\"}, \"x\": {\"type\": \"quantitative\", \"field\": \"a\"}, \"y\": {\"type\": \"quantitative\", \"field\": \"b\"}}, \"$schema\": \"https://vega.github.io/schema/vega-lite/v4.8.1.json\", \"datasets\": {\"data-a1872229d605b292345e242ab2ccd743\": [{\"a\": 0.46025632944331596, \"b\": 0.0468219439546869, \"c\": -2.009347123993532}, {\"a\": -1.0221426322396228, \"b\": 1.6687725147815267, \"c\": -2.056697500954409}, {\"a\": -0.5520010976540455, \"b\": -0.17451999556556053, \"c\": -1.2630335012388645}, {\"a\": 0.6949512505043879, \"b\": -2.36426839785221, \"c\": 1.2437922648869437}, {\"a\": -1.2485063657388706, \"b\": 0.31919990231502837, \"c\": -1.08346905062437}, {\"a\": -0.35952841441182276, \"b\": 0.07175208797897584, \"c\": -0.5134653679655861}, {\"a\": -1.5978704853260925, \"b\": -0.07557101712460838, \"c\": 0.08782369594985816}, {\"a\": 0.7345359542111953, \"b\": -0.6571768479385247, \"c\": -0.7414669855210904}, {\"a\": 0.739820358970249, \"b\": -0.981576635467801, \"c\": -1.5298882001381036}, {\"a\": 0.2975304210619771, \"b\": 0.7202016966833449, \"c\": -0.14396559156264174}, {\"a\": -0.15752964897821742, \"b\": 0.9258313870941564, \"c\": 1.639477206558645}, {\"a\": 0.05531004269547321, \"b\": -0.9442497097407744, \"c\": -0.10043161032350068}, {\"a\": 2.394244635684117, \"b\": 0.30629278075193705, \"c\": -0.8435386837321903}, {\"a\": 0.12542064762238989, \"b\": -2.8466959916209253, \"c\": 0.4921964006518152}, {\"a\": -1.6318264623796148, \"b\": -1.1853010301609108, \"c\": -0.6200321486674776}, {\"a\": -0.9757152844327025, \"b\": -0.6036128881888166, \"c\": 1.081839746458673}, {\"a\": -0.5435763095095499, \"b\": 0.25459120938134866, \"c\": -2.3178395547217354}, {\"a\": 0.16764987949902233, \"b\": -0.6241575678587395, \"c\": 3.085403503127444}, {\"a\": 1.1431354871318689, \"b\": -0.2545551633575373, \"c\": -0.32994529904130143}, {\"a\": 2.0895082227748194, \"b\": -0.6163836099641846, \"c\": 0.380686276034124}, {\"a\": 1.0275417449878141, \"b\": -0.9993249743098273, \"c\": 0.20587021356048793}, {\"a\": -1.4102112526166026, \"b\": -0.6757140572484921, \"c\": 1.047953668696039}, {\"a\": 0.690964448184478, \"b\": -1.0681844863577996, \"c\": 0.2434780989473639}, {\"a\": 0.4262226726843296, \"b\": 1.2557098871751569, \"c\": -1.5498482733063796}, {\"a\": -0.3514075858045948, \"b\": -1.1643653679274386, \"c\": -0.9179767968395794}, {\"a\": -0.05188532130763429, \"b\": -0.1501962332904618, \"c\": -1.01124709157545}, {\"a\": 0.2100740066110147, \"b\": 0.24000466054914874, \"c\": 0.17121578400192725}, {\"a\": -1.2918632831513395, \"b\": -0.5440201512774988, \"c\": 0.9461463881887742}, {\"a\": 0.43175127854090106, \"b\": -1.9203063476183648, \"c\": 0.43169543965159207}, {\"a\": -0.012523714017936532, \"b\": -0.2517273298429237, \"c\": -0.07139713126855872}, {\"a\": 0.12649027585013564, \"b\": 0.48063025797236103, \"c\": -0.6938681388995653}, {\"a\": -0.7942458102808865, \"b\": -0.33559233004084077, \"c\": 1.400320984578998}, {\"a\": -0.5925022737221427, \"b\": 0.4403401273850686, \"c\": 0.18846108483160762}, {\"a\": -1.5058197224424137, \"b\": -1.7362596476251415, \"c\": 0.006549339636870151}, {\"a\": 1.1554740931631853, \"b\": -1.290160341847547, \"c\": -0.3053548602004884}, {\"a\": 0.3567908759213258, \"b\": -0.11770845608515455, \"c\": 1.2905404203287167}, {\"a\": 0.4692700445600661, \"b\": -2.343444185366857, \"c\": 1.1233195696698364}, {\"a\": -1.1455462819453583, \"b\": -1.4637620256979444, \"c\": -0.6529665580100603}, {\"a\": -1.4262054873366465, \"b\": -0.5518171434793626, \"c\": 0.32257874494915684}, {\"a\": 0.19367056559857124, \"b\": 0.4192407687499704, \"c\": -0.8830362672874656}, {\"a\": 0.7824019647447465, \"b\": -0.84544862841499, \"c\": -0.8232659546367151}, {\"a\": 0.6205880494082044, \"b\": -0.47659476975695225, \"c\": -0.038111649986636104}, {\"a\": 2.7855088542601205, \"b\": 0.7663389007257114, \"c\": 0.9767601808493237}, {\"a\": -0.15282164861007697, \"b\": -1.217749239144069, \"c\": 0.4315620519116585}, {\"a\": -1.822076609385688, \"b\": 0.8521584393209868, \"c\": 1.893215844137502}, {\"a\": -0.019992691145668685, \"b\": -0.18647258786603893, \"c\": -0.03646596113839714}, {\"a\": 0.11799908744939629, \"b\": 1.1364365850936005, \"c\": -0.05634606561341847}, {\"a\": 0.5623123798513829, \"b\": -1.2528074240934812, \"c\": -0.5986397878720829}, {\"a\": -0.13953090528721268, \"b\": -0.933783623622325, \"c\": -1.0962888471509864}, {\"a\": -0.45719575404321267, \"b\": -0.7456875656982763, \"c\": -0.3183810898635109}, {\"a\": -1.3085020899380422, \"b\": -0.2622343439680489, \"c\": 0.9783421570121335}, {\"a\": -0.590551618301241, \"b\": 1.0845555623638516, \"c\": 1.0995545734760113}, {\"a\": -0.2454749983395495, \"b\": -0.19075774763732192, \"c\": -1.1149563758920806}, {\"a\": -0.6120931174849439, \"b\": 0.23837968324210262, \"c\": 0.5036824512942032}, {\"a\": 0.07583154506647394, \"b\": -0.806748214715175, \"c\": 1.9080512818499527}, {\"a\": -0.6713331687038943, \"b\": -0.10948549365923844, \"c\": -0.24222108356713368}, {\"a\": 0.5596326870864808, \"b\": -0.1509352729158109, \"c\": -1.0602669045153132}, {\"a\": -0.29480130058411275, \"b\": -0.10137257664794758, \"c\": -0.38964585298155013}, {\"a\": 0.3758399261343982, \"b\": -0.14518385733711672, \"c\": 0.09202306847400187}, {\"a\": 0.1630924403131506, \"b\": -0.8785096146161612, \"c\": 0.983811523241526}, {\"a\": 1.2512938324141234, \"b\": -0.5063427192401935, \"c\": -1.14217572028373}, {\"a\": 0.9331019132805337, \"b\": 0.4040267085502863, \"c\": 0.4903356935276247}, {\"a\": -0.30413993464821915, \"b\": 1.7849791956840957, \"c\": 1.738441976621184}, {\"a\": 0.5762396823543756, \"b\": 0.1676861492408225, \"c\": 1.01670897530908}, {\"a\": 0.7099800627659492, \"b\": -0.9258572774748279, \"c\": 0.556317786951153}, {\"a\": -0.2590510498551091, \"b\": 0.1561008565917057, \"c\": -0.24867097925877077}, {\"a\": 0.37170672774313124, \"b\": 0.8494926727845291, \"c\": -1.678931972562344}, {\"a\": -0.6478867905720948, \"b\": 0.9212935215050082, \"c\": 1.1614075267548698}, {\"a\": -1.1228934898070804, \"b\": 0.6418965974786516, \"c\": 0.16838268841591145}, {\"a\": -0.7675192628346761, \"b\": 0.9183491871055832, \"c\": 0.43916623941662863}, {\"a\": -2.4014123348474268, \"b\": 1.1700239403817438, \"c\": 0.05760149105241751}, {\"a\": 0.11578317483302529, \"b\": 2.9849448699212244, \"c\": 1.519998644156543}, {\"a\": 0.5509362192975846, \"b\": -0.17252164517918772, \"c\": 0.37811943385210606}, {\"a\": -0.84309690362056, \"b\": 0.04705383388412802, \"c\": 0.7523976954871385}, {\"a\": -0.35620580031104293, \"b\": 0.4665637204335904, \"c\": -1.0467389391608604}, {\"a\": -0.80290786920302, \"b\": -0.6679641080805016, \"c\": -1.4360216267926706}, {\"a\": 1.0681973483888896, \"b\": 1.0322979648033905, \"c\": 0.5759195707287219}, {\"a\": 0.16667957529160526, \"b\": -0.38836097136846587, \"c\": 1.5610264238951344}, {\"a\": -0.7732031266181929, \"b\": -1.2212892289632016, \"c\": -0.7536997808457042}, {\"a\": -0.7328608022322478, \"b\": 0.6818138632851675, \"c\": 0.8352317980242497}, {\"a\": -0.6109632287012093, \"b\": -1.7133649922361576, \"c\": 1.5435309550074756}, {\"a\": 1.0188925457612281, \"b\": -0.3976354546847767, \"c\": -0.9271952337552161}, {\"a\": -0.9072038252011576, \"b\": -0.8634701309083143, \"c\": -1.0200734364038566}, {\"a\": -0.37033012339018956, \"b\": 0.5987301484597336, \"c\": 0.5243274682706582}, {\"a\": 0.29393298709978743, \"b\": -2.0235039904870527, \"c\": -0.9308094125987147}, {\"a\": 0.6146306002221761, \"b\": -0.5470227586313158, \"c\": -1.1285342283631863}, {\"a\": -1.0787078568379236, \"b\": 1.369229949168683, \"c\": -1.8264921529263831}, {\"a\": 2.4745970242530912, \"b\": -0.082641042825314, \"c\": -0.3729702883368743}, {\"a\": -0.3454245988137316, \"b\": -2.454235733269972, \"c\": 0.03230688072691202}, {\"a\": -0.9505746670841146, \"b\": 0.4671997238528381, \"c\": 0.2817996701173504}, {\"a\": -0.6144707516639428, \"b\": -1.1234692222781422, \"c\": 0.26466545682291803}, {\"a\": 0.4413100821416384, \"b\": 1.229129974895257, \"c\": -0.7723395281158959}, {\"a\": -0.5817383059383721, \"b\": -1.1314627250930978, \"c\": -2.1954352152739136}, {\"a\": 1.3718060459745027, \"b\": -0.10839772246525838, \"c\": -0.3678944101788528}, {\"a\": -1.2338595579336467, \"b\": -0.8813499196575485, \"c\": 0.0376970047139028}, {\"a\": 0.5410931135686983, \"b\": 0.22799540450563704, \"c\": 0.07183691665703618}, {\"a\": -0.51646049717296, \"b\": -0.7381830764336131, \"c\": 0.6807379228349336}, {\"a\": -0.054986009310613065, \"b\": -1.4071681458802603, \"c\": -0.7317507666294463}, {\"a\": 0.9269472578844177, \"b\": 2.2592938284288766, \"c\": -1.284226235053115}, {\"a\": 0.2207091187590563, \"b\": -0.04621775069398706, \"c\": -0.17618194161247724}, {\"a\": 0.09285709907473953, \"b\": -2.068309228567259, \"c\": 1.358544816915396}, {\"a\": -0.49215603449944584, \"b\": -1.192660315651561, \"c\": -1.6029147853408352}, {\"a\": -0.1594344468922436, \"b\": 0.4978807728196149, \"c\": 0.4801957218693038}, {\"a\": 0.16639024292760612, \"b\": 0.29437627744783484, \"c\": -0.05392713154463178}, {\"a\": -0.09703789707533406, \"b\": -0.3991665579629162, \"c\": -0.2861184194519022}, {\"a\": 0.4862423215270236, \"b\": 1.112753792741445, \"c\": 3.1025043919273645}, {\"a\": 0.49043288258593554, \"b\": 0.017116533344019177, \"c\": 0.30730312373499674}, {\"a\": 0.23986229721728222, \"b\": 2.2119216156865855, \"c\": -0.7182069326679913}, {\"a\": 1.0900197910395184, \"b\": -0.011736743639390134, \"c\": 0.1717741445150267}, {\"a\": -0.014046000220816326, \"b\": -0.2749870180115958, \"c\": -0.9661417191833364}, {\"a\": 0.7050499790286511, \"b\": 0.5109210145245078, \"c\": 0.8579696326446546}, {\"a\": -0.1347948576935963, \"b\": -1.8880288435799606, \"c\": -0.34048338717765775}, {\"a\": -0.928954060369936, \"b\": 1.4646768928218075, \"c\": 0.765707292426353}, {\"a\": 0.36516329560827265, \"b\": 0.9551520305040231, \"c\": 1.0486658577174992}, {\"a\": 0.3800565569099401, \"b\": 0.44866991637131476, \"c\": 0.10286753076408263}, {\"a\": 0.25243311050350853, \"b\": -0.3736879057162696, \"c\": 1.0128559196758533}, {\"a\": 0.050023051640978165, \"b\": 0.4329409187737135, \"c\": 0.9386655000625556}, {\"a\": 0.8003520608133664, \"b\": -0.982232533979897, \"c\": -1.153086391245421}, {\"a\": 1.2702049436949394, \"b\": -1.808428087454281, \"c\": -0.1725430305944578}, {\"a\": -0.745031677243777, \"b\": -0.3970896013816822, \"c\": 1.0376552065119593}, {\"a\": -0.4756129810266223, \"b\": 0.36754925635299696, \"c\": 0.3387610135794499}, {\"a\": -0.8541791311371696, \"b\": -0.5905342794585561, \"c\": 1.210441698593186}, {\"a\": -1.2673752099676785, \"b\": 0.6974025288134551, \"c\": 1.0664960078986787}, {\"a\": -2.535682827405071, \"b\": 0.5898379606458677, \"c\": -2.4523485909361322}, {\"a\": 0.7017954412740905, \"b\": -1.1733796168148865, \"c\": -0.28162237792646305}, {\"a\": -0.4426109765149894, \"b\": -0.5446685001144578, \"c\": -0.6624185025084361}, {\"a\": -2.0816997759653137, \"b\": 0.3680775621894279, \"c\": 0.48445550002710164}, {\"a\": 1.2727174004530577, \"b\": -0.2154033758803183, \"c\": 0.6734191860793605}, {\"a\": -0.5918482775521064, \"b\": -0.33849263485992515, \"c\": -1.9302740554191578}, {\"a\": -1.529707962251421, \"b\": 0.685272405861094, \"c\": 0.3041220779456375}, {\"a\": -1.3838963660078965, \"b\": 0.512251639381145, \"c\": -2.2637536901390036}, {\"a\": -0.050329377850222366, \"b\": -0.33840749093758626, \"c\": -0.9399567605642305}, {\"a\": 1.0917360813676893, \"b\": -0.31213443670991414, \"c\": 0.9422576120005787}, {\"a\": -0.8555567883348917, \"b\": 0.3208879869151133, \"c\": 0.7835018751308012}, {\"a\": 0.9603919400265946, \"b\": -0.5590845382950469, \"c\": -0.4685632714728003}, {\"a\": 0.8633840337651246, \"b\": 1.003264675807509, \"c\": 0.010757425152922545}, {\"a\": -0.38407563900253205, \"b\": -0.5740790273410935, \"c\": 0.4734587823996107}, {\"a\": -1.0555789201332177, \"b\": 2.1745841392774476, \"c\": -0.006276685065769904}, {\"a\": 0.29579648653423823, \"b\": 0.6953245962891498, \"c\": -0.3425467499363555}, {\"a\": 0.4295536776155658, \"b\": -0.2889033767995942, \"c\": -0.47030644065159966}, {\"a\": 0.7656702598110089, \"b\": 0.06981898335529609, \"c\": 0.04543241324945368}, {\"a\": -0.009484281977873451, \"b\": 1.046255327006774, \"c\": 0.5514929267589813}, {\"a\": -1.2110409042366939, \"b\": -0.7623606033030009, \"c\": 0.17337351337254464}, {\"a\": 0.5376810200748221, \"b\": 1.322347254743423, \"c\": -1.2868830942537899}, {\"a\": -1.8429199735482913, \"b\": 0.36045614884877664, \"c\": -0.5713174920922558}, {\"a\": 0.4598944372509265, \"b\": 0.09810728982876249, \"c\": 1.3363721130759962}, {\"a\": -0.9900036425866862, \"b\": 0.3077876617104633, \"c\": 2.3725503805806403}, {\"a\": -0.6093600818025778, \"b\": 0.28276316716572814, \"c\": -0.76686598588261}, {\"a\": -1.232113742106271, \"b\": 0.37585231693188903, \"c\": 0.4336719581481587}, {\"a\": -0.07780439051469733, \"b\": -0.09680970416175683, \"c\": 0.7909233533498442}, {\"a\": -0.4788420406532448, \"b\": 0.7266809977165135, \"c\": -1.5465194227318932}, {\"a\": -0.7085453843789965, \"b\": 0.2515930331432789, \"c\": -0.6266967124413724}, {\"a\": 0.5156190973337615, \"b\": -1.0683873779356328, \"c\": -0.08385595053768012}, {\"a\": 1.402147848194811, \"b\": 0.1362445183222748, \"c\": -0.44499989043080457}, {\"a\": 0.1391185278550426, \"b\": -0.7093958933965131, \"c\": -0.25866825273436345}, {\"a\": -1.2897008277524213, \"b\": 0.03304994804027231, \"c\": 0.0006074901704353543}, {\"a\": -0.8724312445482534, \"b\": -1.0927552709006294, \"c\": 0.8230276178298482}, {\"a\": -0.5300036830449194, \"b\": -0.023534863050698872, \"c\": 0.9655649514286387}, {\"a\": -2.3710973329180325, \"b\": -0.5507982821131938, \"c\": -0.9871343033631598}, {\"a\": -0.9022570506843328, \"b\": -1.7281456501459835, \"c\": 1.4024792971688271}, {\"a\": -1.0104795491774088, \"b\": -1.3538506135132164, \"c\": 0.8289382202500258}, {\"a\": -0.130383644715684, \"b\": -0.6205888805345272, \"c\": -0.32201523497972506}, {\"a\": -0.958279574615708, \"b\": -1.3857814566547226, \"c\": -0.18398749377048781}, {\"a\": -0.6117157886077951, \"b\": -0.14254480988302062, \"c\": 0.1615243851839013}, {\"a\": 0.7385967537734459, \"b\": 0.9271677469913268, \"c\": -0.516493682985854}, {\"a\": -0.006985065344901386, \"b\": 0.9632194256932007, \"c\": 0.2634489675826806}, {\"a\": 0.6950717233611021, \"b\": -0.5137284796561894, \"c\": -2.218850372988359}, {\"a\": -0.06674099199618842, \"b\": 1.1188910858340946, \"c\": -0.6597890151063057}, {\"a\": 0.6845181178467883, \"b\": -0.5565641394704671, \"c\": -0.46592064410234785}, {\"a\": -0.7869201406385294, \"b\": 0.3347336780379741, \"c\": 1.2766956254910418}, {\"a\": 0.31414416715775667, \"b\": -2.1044048901332424, \"c\": -0.9698867303824903}, {\"a\": -2.409339430756886, \"b\": -0.8903455415740263, \"c\": -0.993817052372778}, {\"a\": -1.6948383546796002, \"b\": -0.32324062302628237, \"c\": 1.3177743405413445}, {\"a\": -0.31850900146435634, \"b\": -0.4298833236504749, \"c\": 0.9647873797436334}, {\"a\": 0.7436936953892896, \"b\": -0.43836644345198433, \"c\": 0.8728476659651955}, {\"a\": -0.4021817087660193, \"b\": -0.6737413083143227, \"c\": 0.496049487424824}, {\"a\": 1.0137703730616086, \"b\": -0.34480575645447736, \"c\": 0.41596691514096856}, {\"a\": -0.4952088027285613, \"b\": 1.5277951905117173, \"c\": 0.17014962267177794}, {\"a\": 0.416771042823456, \"b\": 2.5542121911929003, \"c\": -1.4356395001961078}, {\"a\": -0.7987851181530526, \"b\": -0.37748382831258276, \"c\": -0.7421281155745247}, {\"a\": 0.3787878545427094, \"b\": 0.7186248178064707, \"c\": -0.8630439768677339}, {\"a\": -0.13625295648487007, \"b\": -0.2919596431297878, \"c\": 1.0577787817443698}, {\"a\": -0.45295966677220145, \"b\": 0.20807791225758432, \"c\": 0.2573466053580675}, {\"a\": 0.32631731676214476, \"b\": -0.9456506698257678, \"c\": 0.1684085446628436}, {\"a\": 1.4981814711910273, \"b\": -0.37278241055899586, \"c\": -0.19977356204333616}, {\"a\": -1.3953754653337145, \"b\": -0.1646763336426754, \"c\": -0.15989615518011763}, {\"a\": -0.9663794302119534, \"b\": 0.36821484757306905, \"c\": -1.482990154920518}, {\"a\": -0.8537853909784126, \"b\": -1.72629754774958, \"c\": -0.40681901997139874}, {\"a\": 1.937162537588662, \"b\": -0.08265609390996324, \"c\": -0.7370585052532783}, {\"a\": 0.5633361510122366, \"b\": 0.3015018959975118, \"c\": 0.08455917553959202}, {\"a\": -0.5821376215635119, \"b\": 1.2854549673215099, \"c\": -1.426853716188719}, {\"a\": -0.39418332599343653, \"b\": 0.19163683130756623, \"c\": 0.02100963258281808}, {\"a\": -2.018224837968454, \"b\": 0.46166006385620034, \"c\": 0.27783123379745184}, {\"a\": -1.379591122324995, \"b\": 0.3912832108438814, \"c\": 0.8972786715311801}, {\"a\": 0.8450387974722281, \"b\": 0.22109137865005724, \"c\": 0.1160614882267888}, {\"a\": 0.7302442032061406, \"b\": -0.19988935699923585, \"c\": -1.7183115353450968}, {\"a\": 0.3789209773682376, \"b\": -0.3714413742762203, \"c\": -0.1325028214125161}, {\"a\": 0.39659699713238694, \"b\": -1.324109938498463, \"c\": -1.0942856498235862}, {\"a\": 0.9644663631793438, \"b\": 0.07267724768490069, \"c\": -0.1993593044567281}, {\"a\": -0.30482796501089654, \"b\": -0.27867888039346717, \"c\": 1.1493732242222463}]}}, {});\n",
       "</script>\n"
      ],
      "text/plain": [
       "alt.Chart(...)"
      ]
     },
     "metadata": {},
     "output_type": "display_data"
    }
   ],
   "source": [
    "df = pd.DataFrame(np.random.randn(200, 3), columns=['a','b','c'])\n",
    "c = alt.Chart(df).mark_circle().encode(x='a', y='b', size='c', color='c')\n",
    "c.display()"
   ]
  },
  {
   "cell_type": "code",
   "execution_count": 176,
   "metadata": {},
   "outputs": [
    {
     "data": {
      "text/plain": [
       "0.03333333333333333"
      ]
     },
     "execution_count": 176,
     "metadata": {},
     "output_type": "execute_result"
    }
   ],
   "source": [
    ".1 / 3"
   ]
  },
  {
   "cell_type": "code",
   "execution_count": null,
   "metadata": {},
   "outputs": [],
   "source": []
  }
 ],
 "metadata": {
  "kernelspec": {
   "display_name": "Python 3",
   "language": "python",
   "name": "python3"
  },
  "language_info": {
   "codemirror_mode": {
    "name": "ipython",
    "version": 3
   },
   "file_extension": ".py",
   "mimetype": "text/x-python",
   "name": "python",
   "nbconvert_exporter": "python",
   "pygments_lexer": "ipython3",
   "version": "3.8.1"
  }
 },
 "nbformat": 4,
 "nbformat_minor": 4
}
